{
 "cells": [
  {
   "cell_type": "code",
   "execution_count": null,
   "id": "86dcf913-384d-460a-9af9-d6283d31ae8e",
   "metadata": {},
   "outputs": [],
   "source": [
    "import numpy as np # linear algebra\n",
    "import pandas as pd # data processing\n",
    "from sklearn.linear_model import LinearRegression\n",
    "from sklearn.preprocessing import PolynomialFeatures\n",
    "from sklearn import metrics\n",
    "from pandas import DataFrame,Series\n",
    "from sklearn.tree import DecisionTreeRegressor\n",
    "from sklearn.ensemble import RandomForestRegressor\n",
    "import matplotlib\n",
    "import matplotlib.pyplot as plt\n",
    "from sklearn import linear_model\n",
    "from sklearn.model_selection import train_test_split,cross_val_score, cross_val_predict\n",
    "import seaborn as sns # plotting library\n",
    "from sklearn import svm\n",
    "from sklearn.model_selection import train_test_split\n",
    "from sklearn.preprocessing import StandardScaler\n",
    "from sklearn.preprocessing import Normalizer\n",
    "from keras.models import Sequential\n",
    "from keras.layers import Dense\n",
    "import tensorflow as tf\n",
    "from pycaret.regression import *\n",
    "from sklearn import preprocessing\n",
    "import plotly.express as px\n",
    "from tqdm import tqdm"
   ]
  },
  {
   "cell_type": "code",
   "execution_count": null,
   "id": "a12b5eae-6c2e-4f7f-b654-c025f3f06813",
   "metadata": {},
   "outputs": [],
   "source": [
    "df = pd.read_csv(\"covidweather.csv\")\n",
    "df = df.drop(columns = ['UID', 'Population', 'Age-65', 'Income-PC','Deaths', 'Cases', 'New Cases'])\n",
    "df['Date'] = pd.to_datetime(df['Date'])"
   ]
  },
  {
   "cell_type": "code",
   "execution_count": null,
   "id": "ec8ecd3a-e685-4dbf-b839-4e71531a6765",
   "metadata": {},
   "outputs": [],
   "source": [
    "#combine\n",
    "df['Lat'] = ['Lat(' + str(i) for i in df['Lat']]\n",
    "df['Long'] = ['Long(' + str(i) + ')' for i in df['Long']]\n",
    "\n",
    "df['time_series'] = df[['County', 'State']].apply(lambda x: ','.join(x), axis=1)\n",
    "df.drop(['Lat', 'Long'], axis=1, inplace=True)\n",
    "\n",
    "\n",
    "# extract features from date\n",
    "df['month'] = [i.month for i in df['Date']]\n",
    "df['year'] = [i.year for i in df['Date']]\n",
    "df['day_of_week'] = [i.dayofweek for i in df['Date']]\n",
    "df['day_of_year'] = [i.dayofyear for i in df['Date']]\n",
    "\n",
    "\n",
    "df['New Deaths'] = df['New Deaths'].astype(float) \n",
    "df.dtypes"
   ]
  },
  {
   "cell_type": "code",
   "execution_count": null,
   "id": "b2c8f355-8c87-4f89-aaa3-13c0ea87047d",
   "metadata": {},
   "outputs": [],
   "source": [
    "# #visualize\n",
    "import plotly.express as px\n",
    "for i in df['time_series'].unique():\n",
    "    \n",
    "    subset = df[df['time_series'] == i]\n",
    "    subset['Moving_Average'] = subset['New Deaths'].rolling(10).mean()\n",
    "    fig = px.line(subset, x=\"Date\", y=[\"New Deaths\",\"Moving_Average\"], title = i, template = 'plotly_dark')\n",
    "    fig.show()"
   ]
  },
  {
   "cell_type": "code",
   "execution_count": null,
   "id": "7de25adb-9ee2-4efa-897b-383d38a9beae",
   "metadata": {},
   "outputs": [],
   "source": [
    "all_ts = df['time_series'].unique()\n",
    "\n",
    "all_results = []\n",
    "final_model = {}\n",
    "\n",
    "for i in tqdm(all_ts):\n",
    "    \n",
    "    df_subset = df[df['time_series'] == i]\n",
    "    \n",
    "    # initialize setup from pycaret.regression\n",
    "    s = setup(df_subset, target = 'New Deaths', train_size = 0.90,\n",
    "              data_split_shuffle = False, fold_strategy = 'timeseries', fold = 3,\n",
    "              ignore_features = ['Date', 'time_series'],\n",
    "              numeric_features = ['temp', 'humidity', 'windspeed', 'day_of_year', 'year'],\n",
    "              categorical_features = ['month', 'day_of_week'],\n",
    "              silent = True, verbose = False, session_id = 123)\n",
    "    \n",
    "    # compare all models and select best one based on MAE\n",
    "    best_model = compare_models(sort = 'MAE', verbose=False)\n",
    "    \n",
    "    # capture the compare result grid and store best model in list\n",
    "    p = pull().iloc[0:1]\n",
    "    p['time_series'] = str(i)\n",
    "    all_results.append(p)\n",
    "    \n",
    "    # finalize model i.e. fit on entire data including test set\n",
    "    f = finalize_model(best_model)\n",
    "    \n",
    "    # attach final model to a dictionary\n",
    "    final_model[i] = f\n",
    "    \n",
    "    # save transformation pipeline and model as pickle file \n",
    "    save_model(f, model_name=r'C:\\Users\\Mubby\\OneDrive - University of Kentucky/DOCS/SPRING 2022/DS 711/Capstone python/' + str(i), verbose=False)"
   ]
  },
  {
   "cell_type": "code",
   "execution_count": null,
   "id": "9696d818-0933-47b7-9966-bfbd0d13e16a",
   "metadata": {},
   "outputs": [],
   "source": [
    "concat_results = pd.concat(all_results,axis=0)\n",
    "concat_results.head()"
   ]
  }
 ],
 "metadata": {
  "kernelspec": {
   "display_name": "Python 3",
   "language": "python",
   "name": "python3"
  },
  "language_info": {
   "codemirror_mode": {
    "name": "ipython",
    "version": 3
   },
   "file_extension": ".py",
   "mimetype": "text/x-python",
   "name": "python",
   "nbconvert_exporter": "python",
   "pygments_lexer": "ipython3",
   "version": "3.8.8"
  }
 },
 "nbformat": 4,
 "nbformat_minor": 5
}
