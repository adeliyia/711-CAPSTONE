{
 "cells": [
  {
   "cell_type": "markdown",
   "id": "ff5f2e30-d271-40d9-8e55-89c3583113da",
   "metadata": {},
   "source": [
    "# Imports"
   ]
  },
  {
   "cell_type": "code",
   "execution_count": null,
   "id": "ff329e43-dea5-4669-824e-0af363f6404d",
   "metadata": {},
   "outputs": [],
   "source": [
    "import os\n",
    "import yaml\n",
    "import joblib\n",
    "import pandas as pd\n",
    "from pathlib import Path\n",
    "from matplotlib import pyplot as plt\n",
    "import seaborn as sns\n",
    "import plotly.express as px\n",
    "from sklearn.preprocessing import StandardScaler\n",
    "from sklearn.preprocessing import Normalizer\n",
    "from sklearn.preprocessing import MinMaxScaler\n",
    "from torch.utils.data import DataLoader\n",
    "import torch\n",
    "import time\n",
    "import shap\n",
    "sns.set()\n",
    "\n",
    "os.chdir(r'C:\\Users\\Mubby\\OneDrive - University of Kentucky/DOCS/SPRING 2022/DS 711/Capstone python/scripts')\n",
    "import preprocess, train, inference, interpret"
   ]
  },
  {
   "cell_type": "code",
   "execution_count": null,
   "id": "32471c6e-430d-4b17-911b-0b6845cb43d7",
   "metadata": {},
   "outputs": [],
   "source": [
    "with open(\"../model/params.yaml\", \"r\") as params_file:\n",
    "    params = yaml.safe_load(params_file)\n",
    "\n",
    "data_dir = params['data_dir']\n",
    "model_dir = params['model_dir']"
   ]
  },
  {
   "cell_type": "markdown",
   "id": "65372ae0-52d3-4307-8ad2-547a0f6c9036",
   "metadata": {},
   "source": [
    "# Functions"
   ]
  },
  {
   "cell_type": "code",
   "execution_count": null,
   "id": "529e86e7-b74d-477e-957a-c282ab22736a",
   "metadata": {},
   "outputs": [],
   "source": [
    "def create_features(\n",
    "        df\n",
    "):\n",
    "    \"\"\"Creates new features.\"\"\"\n",
    "    \n",
    "    # add date-derived features\n",
    "    df['Day_Of_Week'] = pd.DatetimeIndex(df['Date']).dayofweek\n",
    "    df['Month_Of_Year'] = pd.DatetimeIndex(df['Date']).month\n",
    "    df['Quarter_Of_Year'] = pd.DatetimeIndex(df['Date']).quarter\n",
    "    df['Day_of_Year'] = pd.DatetimeIndex(df['Date']).dayofyear\n",
    "    #drop cols----\n",
    "    #constants\n",
    "    df = df.drop(columns = ['Date'])\n",
    "    df = df.drop(columns = ['County'])\n",
    "    df = df.drop(columns = ['State'])\n",
    "    df = df.drop(columns = ['Age-65'])\n",
    "    df = df.drop(columns = ['Income-PC'])\n",
    "    df = df.drop(columns = ['Lat'])\n",
    "    df = df.drop(columns = ['Long'])\n",
    "    df = df.drop(columns = ['Population'])\n",
    "    \n",
    "    #changing\n",
    "    df = df.drop(columns = ['New Deaths'])\n",
    "    #df = df.drop(columns = ['Cases'])\n",
    "    df = df.drop(columns = ['New Cases'])\n",
    "    \n",
    "    \n",
    "    new_cols = ['Deaths', 'Cases', 'temp', 'humidity', 'windspeed', 'Day_Of_Week', 'Month_Of_Year', 'Quarter_Of_Year', 'Day_of_Year']\n",
    "    df=df[new_cols]\n",
    "    df=df.reindex(columns=new_cols)\n",
    "  \n",
    "    # drop rows with missing values\n",
    "    df = df.dropna()\n",
    "    \n",
    "    return df"
   ]
  },
  {
   "cell_type": "code",
   "execution_count": null,
   "id": "ccb06a15-3275-4c19-8519-645d28227969",
   "metadata": {},
   "outputs": [],
   "source": [
    "def split_data(\n",
    "        df,\n",
    "        train_frac\n",
    "):\n",
    "    train_size = int(len(df) * train_frac)\n",
    "    train_df, test_df = df[:train_size], df[train_size:]\n",
    "\n",
    "    return train_df, test_df, train_size"
   ]
  },
  {
   "cell_type": "code",
   "execution_count": null,
   "id": "e57775bb-5237-4a74-9102-4c2754605733",
   "metadata": {},
   "outputs": [],
   "source": [
    "def rescale_data(\n",
    "        df\n",
    "):\n",
    "    \"\"\"Rescale all features using MinMaxScaler() to same scale, between 0 and 1.\"\"\"\n",
    "    \n",
    "    scaler = MinMaxScaler()\n",
    "    scaler = scaler.fit(df)\n",
    "\n",
    "    df_scaled = pd.DataFrame(\n",
    "        scaler.transform(df),\n",
    "        index=df.index,\n",
    "        columns=df.columns)\n",
    "\n",
    "    # save trained data scaler\n",
    "    joblib.dump(scaler, Path(model_dir, 'scaler.gz'))\n",
    "    \n",
    "    return df_scaled"
   ]
  },
  {
   "cell_type": "markdown",
   "id": "e53c2006-1c58-44b1-bb6f-41dc1a0b8a5c",
   "metadata": {},
   "source": [
    "# Load & Prepare Data"
   ]
  },
  {
   "cell_type": "code",
   "execution_count": null,
   "id": "f0d171ff-298f-4a8f-ba50-ede2a14dc47c",
   "metadata": {},
   "outputs": [],
   "source": [
    "file_name = r'C:\\Users\\Mubby\\OneDrive - University of Kentucky/DOCS/SPRING 2022/DS 711/Capstone python/covidweather.csv'\n",
    "data = pd.read_csv(file_name)\n",
    "data['Date'] = pd.to_datetime(data['Date'])\n",
    "data"
   ]
  },
  {
   "cell_type": "markdown",
   "id": "e6faa592-0498-4cd6-9c99-0e34ff64de3c",
   "metadata": {},
   "source": [
    "# Visualize each Location"
   ]
  },
  {
   "cell_type": "code",
   "execution_count": null,
   "id": "25f87293-aa8f-481e-b06c-1c7b3f0fc3a5",
   "metadata": {},
   "outputs": [],
   "source": [
    "# # #visualize\n",
    "# vdata = data.copy()\n",
    "# vdata['C-State'] = vdata[['County', 'State']].apply(lambda x: ','.join(x), axis=1)\n",
    "# vdata.drop(['County', 'State'], axis=1, inplace=True)\n",
    "\n",
    "\n",
    "# for i in vdata['C-State'].unique():\n",
    "#     subset = vdata[(vdata['C-State'] == i)]\n",
    "#     subsetV = subset.copy()\n",
    "#     subsetV['Moving_Average'] = subsetV['New Deaths'].rolling(10).mean()\n",
    "#     fig = px.line(subsetV, x=\"Date\", y=[\"New Deaths\",\"Moving_Average\"], title = i, template = 'plotly_dark')\n",
    "#     fig.show()"
   ]
  },
  {
   "cell_type": "markdown",
   "id": "bd3bbc21-eeb2-4023-ac2f-f1cc496b486a",
   "metadata": {},
   "source": [
    "# TRAINING"
   ]
  },
  {
   "cell_type": "code",
   "execution_count": null,
   "id": "d5604599-32be-4108-8c67-1c325cc981e7",
   "metadata": {},
   "outputs": [],
   "source": [
    "\n",
    "df = data[(data['State'] == 'KY')]\n",
    "df = df.drop(columns = ['UID'])\n",
    "\n",
    "\n",
    "#create features\n",
    "df = create_features(df)\n",
    "\n",
    "#split into train/test datasets (may 13th 2021)\n",
    "train_df, test_df, train_size = split_data(df, 0.6)\n",
    "\n",
    "#rescale\n",
    "train_df = rescale_data(train_df)\n",
    "#use scaler for test data\n",
    "scaler = joblib.load(Path(model_dir, 'scaler.gz'))\n",
    "test_df = pd.DataFrame(\n",
    "    scaler.transform(test_df),\n",
    "    index=test_df.index,\n",
    "    columns=test_df.columns)\n",
    "\n",
    "#check\n",
    "\n",
    "#train_df = train_df.rename(columns={\"temp\": \"Close\"})    \n",
    "#test_df = test_df.rename(columns={\"temp\": \"Close\"})   \n",
    "\n",
    "\n",
    "train_df.to_csv(r'C:\\Users\\Mubby\\OneDrive - University of Kentucky\\DOCS\\SPRING 2022\\DS 711\\Capstone python\\data\\train.csv', index = False)\n",
    "test_df.to_csv(r'C:\\Users\\Mubby\\OneDrive - University of Kentucky\\DOCS\\SPRING 2022\\DS 711\\Capstone python\\data\\test.csv', index = False)\n",
    "\n",
    "df"
   ]
  },
  {
   "cell_type": "code",
   "execution_count": null,
   "id": "4a9b76d6-8dc1-451a-8081-711ab707efad",
   "metadata": {},
   "outputs": [],
   "source": [
    "sequence_length = 30\n",
    "batch_size = 64\n",
    "n_epochs = 20\n",
    "n_epochs_stop = 10\n",
    "label_name = 'Deaths'"
   ]
  },
  {
   "cell_type": "code",
   "execution_count": null,
   "id": "5b619a57-6427-430b-88a9-33f83bc365ac",
   "metadata": {},
   "outputs": [],
   "source": [
    "hist = train.train_model(train_df, test_df, label_name, sequence_length, batch_size, n_epochs, n_epochs_stop)"
   ]
  },
  {
   "cell_type": "code",
   "execution_count": null,
   "id": "c15d278e-82f0-4b15-a3d2-e7614f555fc7",
   "metadata": {},
   "outputs": [],
   "source": [
    "hist.plot(figsize=(12,6), cmap='viridis')\n",
    "plt.show()"
   ]
  },
  {
   "cell_type": "markdown",
   "id": "2b8836a5-2cf5-4d3f-a2bd-f279cf1c9d62",
   "metadata": {},
   "source": [
    "# Evaluate Model"
   ]
  },
  {
   "cell_type": "code",
   "execution_count": null,
   "id": "e3b182eb-4d2b-413a-8d37-5ebac7bc0264",
   "metadata": {},
   "outputs": [],
   "source": [
    "predictions_descaled, labels_descaled = inference.predict(df=test_df,\n",
    "                                                          label_name='Deaths',\n",
    "                                                          sequence_length=sequence_length)\n",
    "\n",
    "predictions_descaled.shape, predictions_descaled.shape"
   ]
  },
  {
   "cell_type": "code",
   "execution_count": null,
   "id": "28e96aaa-55ab-48b9-98c0-66842d77d408",
   "metadata": {},
   "outputs": [],
   "source": [
    "print('Error on all test data:')\n",
    "inference.print_loss_metrics(labels_descaled, predictions_descaled)\n",
    "print('\\n')\n",
    "#print('Error on partial test data:')\n",
    "#inference.print_loss_metrics(labels_descaled[:30], predictions_descaled[:30])"
   ]
  },
  {
   "cell_type": "code",
   "execution_count": null,
   "id": "40272883-c076-4ba4-935f-57fdbb59ac26",
   "metadata": {},
   "outputs": [],
   "source": [
    "df_pred = pd.DataFrame()\n",
    "df_pred['Predicted'] = predictions_descaled\n",
    "df_pred['True'] = labels_descaled\n",
    "df_pred['Residual'] = labels_descaled - predictions_descaled\n",
    "df_pred.plot(figsize=(12,6), cmap='viridis')\n",
    "plt.xticks(rotation=45)\n",
    "#plt.xlim(0,300)\n",
    "plt.xlabel('Days')\n",
    "plt.ylabel('Deaths')\n",
    "plt.legend()\n",
    "plt.show()"
   ]
  },
  {
   "cell_type": "markdown",
   "id": "fb683c3b-958c-422e-b612-a590aa4ea06f",
   "metadata": {},
   "source": [
    "# Feature Importance"
   ]
  },
  {
   "cell_type": "code",
   "execution_count": null,
   "id": "15cb12e1-f727-4809-ba36-f6aebac4c786",
   "metadata": {},
   "outputs": [],
   "source": [
    "background_data_size = 630\n",
    "test_sample_size = 100\n",
    "sequence_length = 30"
   ]
  },
  {
   "cell_type": "code",
   "execution_count": null,
   "id": "88d70112-9a1a-47f8-8d1e-8c90d530bfb1",
   "metadata": {},
   "outputs": [],
   "source": [
    "shap_values = interpret.get_important_features(\n",
    "    label_name,\n",
    "    background_data_size,\n",
    "    test_sample_size,\n",
    "    sequence_length\n",
    ")"
   ]
  },
  {
   "cell_type": "code",
   "execution_count": null,
   "id": "86e73fc4-27fc-4bf9-82e9-52c8eea53e32",
   "metadata": {},
   "outputs": [],
   "source": [
    "shap_plot = pd.DataFrame(shap_values, columns=train_df.columns.tolist())\n",
    "shap_plot['days'] = [i-31 for i in list(range(1,31))]\n",
    "shap_plot.head()"
   ]
  },
  {
   "cell_type": "code",
   "execution_count": null,
   "id": "f9f5ebf0-d824-4146-bef8-e7d69c20ef15",
   "metadata": {},
   "outputs": [],
   "source": [
    "shap_plot.plot.area(x='days',figsize=(10, 6), cmap='Pastel1')\n",
    "plt.title(\"Deep SHAP - Feature Importance\")\n",
    "plt.show()"
   ]
  },
  {
   "cell_type": "code",
   "execution_count": null,
   "id": "f6cb52e1-45cf-429b-9dc2-4d64ecae1c85",
   "metadata": {},
   "outputs": [],
   "source": [
    "shap.summary_plot(shap_values, plot_type = 'bar', feature_names = train_df.columns)"
   ]
  },
  {
   "cell_type": "code",
   "execution_count": null,
   "id": "841a45ff-ed69-4139-8b29-502065a553fe",
   "metadata": {},
   "outputs": [],
   "source": []
  }
 ],
 "metadata": {
  "kernelspec": {
   "display_name": "Python 3",
   "language": "python",
   "name": "python3"
  },
  "language_info": {
   "codemirror_mode": {
    "name": "ipython",
    "version": 3
   },
   "file_extension": ".py",
   "mimetype": "text/x-python",
   "name": "python",
   "nbconvert_exporter": "python",
   "pygments_lexer": "ipython3",
   "version": "3.8.8"
  }
 },
 "nbformat": 4,
 "nbformat_minor": 5
}
